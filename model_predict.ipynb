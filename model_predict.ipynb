{
 "cells": [
  {
   "cell_type": "code",
   "execution_count": 10,
   "id": "fecdfc66",
   "metadata": {},
   "outputs": [
    {
     "data": {
      "text/plain": [
       "<catboost.core.CatBoostRegressor at 0x1bfb2046d90>"
      ]
     },
     "execution_count": 10,
     "metadata": {},
     "output_type": "execute_result"
    }
   ],
   "source": [
    "# Загрузка модели\n",
    "from catboost import CatBoostRegressor\n",
    "model = CatBoostRegressor()\n",
    "model.load_model('catboost_model.cbm')"
   ]
  },
  {
   "cell_type": "code",
   "execution_count": 11,
   "id": "a9180b18",
   "metadata": {},
   "outputs": [],
   "source": [
    "# Загрузка новых данных\n",
    "import pandas as pd\n",
    "df = pd.read_csv(\"sample__data.csv\")"
   ]
  },
  {
   "cell_type": "code",
   "execution_count": 12,
   "id": "41ccd887",
   "metadata": {},
   "outputs": [],
   "source": [
    "# Функция приведение данных в необходимый формат\n",
    "def get_date_columns(df):\n",
    "    df[\"timestamp\"] = pd.to_datetime(df[\"timestamp\"])\n",
    "    df.insert(0, 'hour',  df['timestamp'].dt.hour)\n",
    "    df.insert(1, 'day',  df['timestamp'].dt.day)\n",
    "    df.insert(2, 'month',  df['timestamp'].dt.month)\n",
    "    df.insert(3, 'year',  df['timestamp'].dt.year)\n",
    "    df = df.drop(\"day_of_week\", axis=1)\n",
    "    df = df.drop(\"timestamp\", axis=1)\n",
    "    return df"
   ]
  },
  {
   "cell_type": "code",
   "execution_count": 13,
   "id": "ff8e7e3f",
   "metadata": {},
   "outputs": [],
   "source": [
    "df = get_date_columns(df)"
   ]
  },
  {
   "cell_type": "code",
   "execution_count": 14,
   "id": "41d25b05",
   "metadata": {},
   "outputs": [
    {
     "data": {
      "text/html": [
       "<div>\n",
       "<style scoped>\n",
       "    .dataframe tbody tr th:only-of-type {\n",
       "        vertical-align: middle;\n",
       "    }\n",
       "\n",
       "    .dataframe tbody tr th {\n",
       "        vertical-align: top;\n",
       "    }\n",
       "\n",
       "    .dataframe thead th {\n",
       "        text-align: right;\n",
       "    }\n",
       "</style>\n",
       "<table border=\"1\" class=\"dataframe\">\n",
       "  <thead>\n",
       "    <tr style=\"text-align: right;\">\n",
       "      <th></th>\n",
       "      <th>hour</th>\n",
       "      <th>day</th>\n",
       "      <th>month</th>\n",
       "      <th>year</th>\n",
       "      <th>ground_id</th>\n",
       "      <th>is_weekend</th>\n",
       "      <th>temperature</th>\n",
       "      <th>ground_type</th>\n",
       "      <th>equipment_quality</th>\n",
       "      <th>event</th>\n",
       "      <th>season</th>\n",
       "      <th>weather</th>\n",
       "    </tr>\n",
       "  </thead>\n",
       "  <tbody>\n",
       "    <tr>\n",
       "      <th>0</th>\n",
       "      <td>0</td>\n",
       "      <td>1</td>\n",
       "      <td>12</td>\n",
       "      <td>2024</td>\n",
       "      <td>1</td>\n",
       "      <td>1</td>\n",
       "      <td>-20</td>\n",
       "      <td>футбольная</td>\n",
       "      <td>5</td>\n",
       "      <td>0</td>\n",
       "      <td>Winter</td>\n",
       "      <td>небольшой снег</td>\n",
       "    </tr>\n",
       "    <tr>\n",
       "      <th>1</th>\n",
       "      <td>1</td>\n",
       "      <td>1</td>\n",
       "      <td>12</td>\n",
       "      <td>2024</td>\n",
       "      <td>1</td>\n",
       "      <td>1</td>\n",
       "      <td>-19</td>\n",
       "      <td>футбольная</td>\n",
       "      <td>5</td>\n",
       "      <td>0</td>\n",
       "      <td>Winter</td>\n",
       "      <td>небольшой снег</td>\n",
       "    </tr>\n",
       "    <tr>\n",
       "      <th>2</th>\n",
       "      <td>2</td>\n",
       "      <td>1</td>\n",
       "      <td>12</td>\n",
       "      <td>2024</td>\n",
       "      <td>1</td>\n",
       "      <td>1</td>\n",
       "      <td>-18</td>\n",
       "      <td>футбольная</td>\n",
       "      <td>5</td>\n",
       "      <td>0</td>\n",
       "      <td>Winter</td>\n",
       "      <td>небольшой снег</td>\n",
       "    </tr>\n",
       "    <tr>\n",
       "      <th>3</th>\n",
       "      <td>3</td>\n",
       "      <td>1</td>\n",
       "      <td>12</td>\n",
       "      <td>2024</td>\n",
       "      <td>1</td>\n",
       "      <td>1</td>\n",
       "      <td>-21</td>\n",
       "      <td>футбольная</td>\n",
       "      <td>5</td>\n",
       "      <td>0</td>\n",
       "      <td>Winter</td>\n",
       "      <td>небольшой снег</td>\n",
       "    </tr>\n",
       "    <tr>\n",
       "      <th>4</th>\n",
       "      <td>4</td>\n",
       "      <td>1</td>\n",
       "      <td>12</td>\n",
       "      <td>2024</td>\n",
       "      <td>1</td>\n",
       "      <td>1</td>\n",
       "      <td>-18</td>\n",
       "      <td>футбольная</td>\n",
       "      <td>5</td>\n",
       "      <td>0</td>\n",
       "      <td>Winter</td>\n",
       "      <td>небольшой снег</td>\n",
       "    </tr>\n",
       "  </tbody>\n",
       "</table>\n",
       "</div>"
      ],
      "text/plain": [
       "   hour  day  month  year  ground_id  is_weekend  temperature ground_type  \\\n",
       "0     0    1     12  2024          1           1          -20  футбольная   \n",
       "1     1    1     12  2024          1           1          -19  футбольная   \n",
       "2     2    1     12  2024          1           1          -18  футбольная   \n",
       "3     3    1     12  2024          1           1          -21  футбольная   \n",
       "4     4    1     12  2024          1           1          -18  футбольная   \n",
       "\n",
       "   equipment_quality  event  season         weather  \n",
       "0                  5      0  Winter  небольшой снег  \n",
       "1                  5      0  Winter  небольшой снег  \n",
       "2                  5      0  Winter  небольшой снег  \n",
       "3                  5      0  Winter  небольшой снег  \n",
       "4                  5      0  Winter  небольшой снег  "
      ]
     },
     "execution_count": 14,
     "metadata": {},
     "output_type": "execute_result"
    }
   ],
   "source": [
    "df.head()"
   ]
  },
  {
   "cell_type": "code",
   "execution_count": 15,
   "id": "532319a2",
   "metadata": {},
   "outputs": [],
   "source": [
    "predictions = model.predict(df)"
   ]
  },
  {
   "cell_type": "code",
   "execution_count": 16,
   "id": "34e2d53d",
   "metadata": {},
   "outputs": [],
   "source": [
    "df[\"predictions\"] = predictions"
   ]
  },
  {
   "cell_type": "code",
   "execution_count": 18,
   "id": "d26668ba",
   "metadata": {},
   "outputs": [],
   "source": [
    "import numpy as np\n",
    "# Форматируем столбцы времени\n",
    "df['timestamp'] = pd.to_datetime(df[['year', 'month', 'day', 'hour']].assign(minute=0, second=0, microsecond=0))\n",
    "\n",
    "# Округляем predictions\n",
    "df['rounded_predictions'] = np.round(df['predictions'])\n",
    "\n",
    "# Сохраняем предсказания модели\n",
    "df.to_csv('predict.csv', index=False)"
   ]
  },
  {
   "cell_type": "code",
   "execution_count": null,
   "id": "145cbd1d",
   "metadata": {},
   "outputs": [],
   "source": []
  }
 ],
 "metadata": {
  "kernelspec": {
   "display_name": "Python 3 (ipykernel)",
   "language": "python",
   "name": "python3"
  },
  "language_info": {
   "codemirror_mode": {
    "name": "ipython",
    "version": 3
   },
   "file_extension": ".py",
   "mimetype": "text/x-python",
   "name": "python",
   "nbconvert_exporter": "python",
   "pygments_lexer": "ipython3",
   "version": "3.11.5"
  }
 },
 "nbformat": 4,
 "nbformat_minor": 5
}
